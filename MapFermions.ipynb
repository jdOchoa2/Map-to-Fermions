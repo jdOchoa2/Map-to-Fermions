{
 "cells": [
  {
   "cell_type": "code",
   "execution_count": null,
   "id": "25736485",
   "metadata": {},
   "outputs": [],
   "source": [
    "using Pkg\n",
    "Pkg.activate(\"./demo/Project.toml\");"
   ]
  },
  {
   "cell_type": "code",
   "execution_count": null,
   "id": "eb3e0ecc",
   "metadata": {},
   "outputs": [],
   "source": [
    "using LinearAlgebra\n",
    "using Random\n",
    "using Plots"
   ]
  },
  {
   "cell_type": "code",
   "execution_count": null,
   "id": "390d6190",
   "metadata": {},
   "outputs": [],
   "source": [
    "function Hamiltonian(N,distribution,J_min,Omega)\n",
    "    couplings = distribution(N,J_min,Omega)\n",
    "    H = zeros(Float64, N, N)\n",
    "    for ii in 1:N-1\n",
    "        H[ii,ii+1] = couplings[ii]; H[ii+1,ii] = couplings[ii]\n",
    "    end\n",
    "    H[1,N] = (-1)^(N+1)*couplings[N]; H[N,1] = (-1)^(N+1)*couplings[N]\n",
    "    return H\n",
    "end\n",
    "\n",
    "function Box_Hamiltonian(N,J_min,Omega)\n",
    "    return [rand() * (Omega - J_min) + J_min for ii in 1:N]\n",
    "end\n",
    "\n",
    "function Binary_Hamiltonian(N,J_min,Omega)\n",
    "    return [rand([J_min, Omega]) for ii in 1:N]\n",
    "end\n",
    "\n",
    "function Diagonalize(A)\n",
    "    return Diagonal(eigen(A).values), eigen(A).vectors\n",
    "end;"
   ]
  },
  {
   "cell_type": "code",
   "execution_count": null,
   "id": "3bfc743c",
   "metadata": {},
   "outputs": [],
   "source": [
    "function Delta(x)\n",
    "    if abs(x) < 1e-15\n",
    "        return 1\n",
    "    else \n",
    "        return 0\n",
    "    end\n",
    "end\n",
    "\n",
    "function Correlation_Fermion(i,j,U,N)\n",
    "    C = 0.; k_F = Integer(N/2)\n",
    "    for k in 1:k_F\n",
    "        C += U[i,k]*U[j,k]\n",
    "    end\n",
    "    return C\n",
    "end\n",
    "        \n",
    "function Correlation_Element(i,j,U)\n",
    "    return Delta(i-j) - 2*Correlation_Fermion(i,j,U,N)\n",
    "end\n",
    "\n",
    "function Correlation_Matrix(U,N)\n",
    "    Corr_Matrix = zeros(Float64,N,N)\n",
    "    for i in 1:N\n",
    "        for j in 1:i\n",
    "            Symm_ij =  Correlation_Element(i,j,U)\n",
    "            Corr_Matrix[i,j] = Symm_ij\n",
    "            Corr_Matrix[j,i] = Symm_ij\n",
    "        end\n",
    "    end\n",
    "    return Corr_Matrix\n",
    "end\n",
    "\n",
    "function Longitudinal_Correlation(r,N,Corr_Matrix)\n",
    "    Corr_z = 0.\n",
    "    for i in 1:N\n",
    "        j = (i+r-1)%N+1 \n",
    "        Corr_z += Corr_Matrix[j,j]*Corr_Matrix[i,i] - Corr_Matrix[i,j]^2\n",
    "    end\n",
    "    return Corr_z/(4*N)\n",
    "end\n",
    "\n",
    "function Transversal_Correlation(r,N,Corr_Matrix)\n",
    "    Corr_x = 0.\n",
    "    A = zeros(Float64, r, r)\n",
    "    for i in 1:N\n",
    "        for column in 1:r\n",
    "            for row in 1:r\n",
    "                ii = (i+column-1)%N+1%N; jj = (i+row-2)%N+1%N\n",
    "                A[column,row] = Corr_Matrix[ii,jj]\n",
    "            end\n",
    "        end\n",
    "        Corr_x += det(A)\n",
    "    end\n",
    "    return -1^r*Corr_x/(4*N)\n",
    "end\n",
    "\n",
    "function Correlation_Function(R, Domain, N, samples, distribution, J_min, Omega=1)\n",
    "    C_zz = zeros(Float64, Domain, samples); C_xx = zeros(Float64, Domain, samples)\n",
    "    for t in 1:samples\n",
    "        print()\n",
    "        H = Hamiltonian(N,distribution,J_min,Omega)\n",
    "        D , U = Diagonalize(H)\n",
    "        Corr_Matrix = Correlation_Matrix(U,N)\n",
    "        for r in 1:Domain\n",
    "            C_zz[r,t] = Longitudinal_Correlation(R[r],N,Corr_Matrix) \n",
    "            C_xx[r,t] = Transversal_Correlation(R[r],N,Corr_Matrix) \n",
    "        end\n",
    "    end\n",
    "    return C_zz, C_xx\n",
    "end;"
   ]
  },
  {
   "cell_type": "code",
   "execution_count": null,
   "id": "1dd344ab",
   "metadata": {},
   "outputs": [],
   "source": [
    "function Mean(A,n,m)\n",
    "    mean = zeros(Float64, n, 1)\n",
    "    for i in 1:m\n",
    "        mean += A[:,i]\n",
    "    end\n",
    "    return mean/m\n",
    "end\n",
    "      \n",
    "function Variance(A,n,m,mean)\n",
    "    var = zeros(Float64, n, 1)\n",
    "    for i in 1:m\n",
    "        var += (A[:,i] - mean).^2\n",
    "    end\n",
    "    return var/m\n",
    "end;"
   ]
  },
  {
   "cell_type": "code",
   "execution_count": null,
   "id": "cec29cea",
   "metadata": {},
   "outputs": [],
   "source": [
    "N = 4000; J_min = 1/4; Omega = 1; samples = 50; distribution = Box_Hamiltonian; seed = 8;"
   ]
  },
  {
   "cell_type": "code",
   "execution_count": null,
   "id": "323bfb7b",
   "metadata": {},
   "outputs": [],
   "source": [
    "R = vcat([r for r in 1:2:10],[trunc(Int,10^r) + (trunc(Int,10^r)+ 1) %2  for r in 1:0.06:2.3]) \n",
    "Domain = length(R); Random.seed!(seed)\n",
    "C_zz, C_xx = Correlation_Function(R, Domain, N, samples, distribution, J_min, Omega);"
   ]
  },
  {
   "cell_type": "code",
   "execution_count": null,
   "id": "178bcb66",
   "metadata": {},
   "outputs": [],
   "source": [
    "Mean_C_xx = Mean(C_xx,Domain,samples)\n",
    "Mean_C_zz = Mean(C_zz,Domain,samples);"
   ]
  },
  {
   "cell_type": "code",
   "execution_count": null,
   "id": "16484ea6",
   "metadata": {},
   "outputs": [],
   "source": [
    "Var_C_xx = Variance(C_xx,Domain,samples,Mean_C_xx)\n",
    "Var_C_zz = Variance(C_zz,Domain,samples,Mean_C_zz);"
   ]
  },
  {
   "cell_type": "code",
   "execution_count": null,
   "id": "8da74504",
   "metadata": {},
   "outputs": [],
   "source": [
    "SeriesX = R.^2 .*abs.(Mean_C_xx)\n",
    "x = 1:2:200; f(x) = 0.14709*x^(3/2); y = f.(x)\n",
    "plot(x, y, label=\"Clean system\",xaxis=:log,yaxis=:log,color=:orange,)\n",
    "scatter!(R,SeriesX,xaxis=:log,yaxis=:log,legend=:topleft,label=\"Box distribution, J_min = 0\", \n",
    "        markersize=2.2,color=:blue,ylabel=r\"$-l^2*|C_{xx}(l)|$\",xlabel=r\"$l$\",ylim=(0.05,300))\n",
    "hline!([1/12], color=:black, label=\"1/12\",linestyle=:dash)"
   ]
  },
  {
   "cell_type": "code",
   "execution_count": null,
   "id": "aaac4fc3",
   "metadata": {},
   "outputs": [],
   "source": [
    "scatter(R,Var_C_xx,xaxis=:log,yaxis=:log,legend=:bottomleft,label=\"Box distribution, J_min = 0\", markersize=2.2,color=:green,ylabel=\"Var_xx\",xlabel=r\"$l$\")"
   ]
  },
  {
   "cell_type": "code",
   "execution_count": null,
   "id": "cbf4560e",
   "metadata": {},
   "outputs": [],
   "source": [
    "SeriesZ = -R.^2 .*Mean_C_zz\n",
    "scatter(R,SeriesZ,xaxis=:log,legend=:topleft,label=\"Box distribution, J_min = 0\", \n",
    "markersize=2.2,color=:blue, ylabel=r\"$-l^2*C_{zz}(l)$\", xlabel=r\"$l$\",ylims = (0,0.3))\n",
    "hline!([1/12], color=:black, label=\"1/12\",linestyle=:dash)\n",
    "hline!([1/pi^2], color=:orange, label=\"1/π^2\")"
   ]
  },
  {
   "cell_type": "code",
   "execution_count": null,
   "id": "8f648f92",
   "metadata": {},
   "outputs": [],
   "source": [
    "scatter(R,Var_C_zz,xaxis=:log,yaxis=:log,legend=:bottomleft,label=\"Box distribution, J_min = 0\", markersize=2.2,color=:green,ylabel=\"Var_zz\",xlabel=r\"$l$\")"
   ]
  }
 ],
 "metadata": {
  "kernelspec": {
   "display_name": "Julia 1.7.2",
   "language": "julia",
   "name": "julia-1.7"
  },
  "language_info": {
   "file_extension": ".jl",
   "mimetype": "application/julia",
   "name": "julia",
   "version": "1.7.3"
  }
 },
 "nbformat": 4,
 "nbformat_minor": 5
}
